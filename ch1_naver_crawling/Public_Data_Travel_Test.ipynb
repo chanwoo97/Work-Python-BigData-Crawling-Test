{
 "cells": [
  {
   "cell_type": "code",
   "id": "initial_id",
   "metadata": {
    "collapsed": true,
    "ExecuteTime": {
     "end_time": "2025-09-08T05:09:34.562145Z",
     "start_time": "2025-09-08T05:09:32.187273Z"
    }
   },
   "source": [
    "import urllib.request\n",
    "import datetime\n",
    "import time\n",
    "import json\n",
    "import pandas as pd\n",
    "ServiceKey=\"Ody77GLuYeR%2FeFqbpduMN2Bi4Cka2fztbgnj6E2Eux1kUhy3e4epR28XKBUaObiqPoVzAizxXMBPXtMyuC9v9Q%3D%3D\""
   ],
   "outputs": [],
   "execution_count": 1
  },
  {
   "metadata": {
    "ExecuteTime": {
     "end_time": "2025-09-08T05:22:32.277457Z",
     "start_time": "2025-09-08T05:22:32.271830Z"
    }
   },
   "cell_type": "code",
   "source": [
    "#[CODE 1]\n",
    "def getRequestUrl(url):\n",
    "    req = urllib.request.Request(url)\n",
    "    try:\n",
    "        response = urllib.request.urlopen(req)\n",
    "        if response.getcode() == 200:\n",
    "            print(\"[%s] Url Request Success\" % datetime.datetime.now())\n",
    "            return response.read().decode('utf-8')\n",
    "    except Exception as e:\n",
    "        print(e)\n",
    "        print(\"[%s] Error for URL : %s\" % (datetime.datetime.now(), url))\n",
    "        return None"
   ],
   "id": "f812ee9729e99b08",
   "outputs": [],
   "execution_count": 3
  },
  {
   "metadata": {
    "ExecuteTime": {
     "end_time": "2025-09-08T05:03:31.092365Z",
     "start_time": "2025-09-08T05:03:31.084164Z"
    }
   },
   "cell_type": "code",
   "source": [
    "# http://openapi.tour.go.kr/openapi/service/EdrcntTourismStatsService/getEdrcntTourismStatsList\n",
    "# 파라미터\n",
    "# ?YM=201201&NAT_CD=100&ED_CD=D&serviceKey=TEST_SERVICE_KEY\n",
    "def getTourismStatsItem(yyyymm, nation_code, ed_cd):\n",
    "    service_url = \"http://openapi.tour.go.kr/openapi/service/EdrcntTourismStatsService/getEdrcntTourismStatsList\"\n",
    "    prameters = \"?_type=json&serviceKey=\" + ServiceKey\n",
    "    prameters += \"&YM=\" + yyyymm\n",
    "    prameters += \"&NAT_CD=\" + nation_code\n",
    "    prameters += \"&ED_CD=\" + ed_cd\n",
    "    url = service_url + prameters\n",
    "    print(url)\n",
    "    responseDecode = getRequestUrl(url)\n",
    "    if (responseDecode == None):\n",
    "        return None\n",
    "    else:\n",
    "        return json.loads(responseDecode)"
   ],
   "id": "3e0bec40d0586b97",
   "outputs": [],
   "execution_count": 8
  },
  {
   "metadata": {
    "ExecuteTime": {
     "end_time": "2025-09-08T05:03:31.107999Z",
     "start_time": "2025-09-08T05:03:31.100793Z"
    }
   },
   "cell_type": "code",
   "source": [
    "#[CODE 3]\n",
    "def getTourismStatsService(nat_cd, ed_cd, nStartYear, nEndYear):\n",
    "    jsonResult = []\n",
    "    result = []\n",
    "    natName=''\n",
    "    dataEND = \"{0}{1:0>2}\".format(str(nEndYear), str(12)) #데이터 끝 초기화\n",
    "    isDataEnd = 0 #데이터 끝 확인용 flag 초기화\n",
    "\n",
    "    for year in range(nStartYear, nEndYear+1):\n",
    "        for month in range(1, 13):\n",
    "            if(isDataEnd == 1): break    #수집기간이 남았어도 데이터 끝이면 작업 중지.\n",
    "\n",
    "            yyyymm = \"{0}{1:0>2}\".format(str(year), str(month))\n",
    "            jsonData = getTourismStatsItem(yyyymm, nat_cd, ed_cd) #[CODE 2]\n",
    "\n",
    "            if (jsonData['response']['header']['resultMsg'] == 'OK'):\n",
    "                # 아직 입력된 범위까지 수집하지 않았지만, 더이상 제공되는 데이터가 없는 경우 -------------------\n",
    "                if jsonData['response']['body']['items'] == '':\n",
    "                    isDataEnd = 1 #데이터 끝 flag 설정\n",
    "                    if (month-1)==0:  #마지막 데이터가 12월인데, 현재 month가 다음해 1월인 경우\n",
    "                        year = year-1\n",
    "                        month = 13\n",
    "\n",
    "                    dataEND = \"{0}{1:0>2}\".format(str(year), str(month-1))\n",
    "                    print(\"데이터 없음.... \\n제공되는 통계 데이터는 %s년 %s월까지입니다.\\n\"\n",
    "                              %(str(year), str(month-1)), '-'*70)\n",
    "                    jsonData = getTourismStatsItem(dataEND, nat_cd, ed_cd) #출력용으로 마지막 데이터 다시 호출\n",
    "                    break\n",
    "\n",
    "                #반환할 데이터 항목을 추출하여 저장\n",
    "                natName = jsonData['response']['body']['items']['item']['natKorNm']\n",
    "                natName = natName.replace(' ', '')\n",
    "                num = jsonData['response']['body']['items']['item']['num']\n",
    "                ed = jsonData['response']['body']['items']['item']['ed']\n",
    "                print('[ %s_%s : %s ]' %(natName, yyyymm, num))\n",
    "                print('-'*70)\n",
    "                jsonResult.append({'nat_name': natName, 'nat_cd': nat_cd,\n",
    "                                 'yyyymm': yyyymm, 'visit_cnt': num})\n",
    "                result.append([natName, nat_cd, yyyymm, num])\n",
    "\n",
    "    #마지막 jsonData를 확인용으로 출력하기......................................................\n",
    "    print ('<마지막 jsonData>\\n', json.dumps(jsonData, indent=4, sort_keys=True, ensure_ascii=False))\n",
    "\n",
    "    return (jsonResult, result, natName, ed, dataEND)"
   ],
   "id": "46e77e528f59c95d",
   "outputs": [],
   "execution_count": 9
  },
  {
   "metadata": {
    "ExecuteTime": {
     "end_time": "2025-09-08T05:09:52.759350Z",
     "start_time": "2025-09-08T05:09:40.013134Z"
    }
   },
   "cell_type": "code",
   "source": [
    "#[CODE 0]\n",
    "def main():\n",
    "    jsonResult = []\n",
    "    result = []\n",
    "    natName=''\n",
    "\n",
    "    print(\"<< 국내 입국한 외국인의 통계 데이터를 수집합니다. >>\")\n",
    "    nat_cd = input('국가 코드를 입력하세요(중국: 112 / 일본: 130 / 미국: 275) : ')\n",
    "    nStartYear =int(input('데이터를 몇 년부터 수집할까요? : '))\n",
    "    nEndYear = int(input('데이터를 몇 년까지 수집할까요? : '))\n",
    "    ed_cd = \"E\"     #E : 방한외래관광객, D : 해외 출국\n",
    "\n",
    "    jsonResult, result, natName, ed, dataEND = \\\n",
    "                getTourismStatsService(nat_cd, ed_cd, nStartYear, nEndYear) #[CODE 3]\n",
    "\n",
    "    if (natName=='') : #URL 요청은 성공하였지만, 데이터 제공이 안된 경우\n",
    "        print('데이터가 전달되지 않았습니다. 공공데이터포털의 서비스 상태를 확인하기 바랍니다.')\n",
    "    else:\n",
    "        #파일저장 1 : json 파일\n",
    "        with open('./%s_%s_%d_%s.json' % (natName, ed, nStartYear, dataEND), 'w',\n",
    "                    encoding='utf8') as outfile:\n",
    "            jsonFile  = json.dumps(jsonResult, indent=4, sort_keys=True, ensure_ascii=False)\n",
    "            outfile.write(jsonFile)\n",
    "        #파일저장 2 : csv 파일\n",
    "        columns = [\"입국자국가\", \"국가코드\", \"입국연월\", \"입국자 수\"]\n",
    "        result_df = pd.DataFrame(result, columns = columns)\n",
    "        result_df.to_csv('./%s_%s_%d_%s.csv' % (natName, ed, nStartYear, dataEND),\n",
    "                    index=False, encoding='utf-8-sig')\n",
    "        # utf-8 방식에 BOM(Byte Order Mark) 이라는 특별한 표시를\n",
    "        # 파일 맨 앞에 추가한 방식입니다. Excel은 이 BOM 표시를 보고 \"아, 이 파일은 UTF-8로 만들어졌구나!\"라고 정확히 인식하여\n",
    "        # 한글을 깨뜨리지 않고 올바르게 보여줍니다.\n",
    "\n",
    "if __name__ == '__main__':\n",
    "    main()"
   ],
   "id": "934c2fe428a08def",
   "outputs": [
    {
     "name": "stdout",
     "output_type": "stream",
     "text": [
      "<< 국내 입국한 외국인의 통계 데이터를 수집합니다. >>\n"
     ]
    },
    {
     "ename": "NameError",
     "evalue": "name 'getTourismStatsService' is not defined",
     "output_type": "error",
     "traceback": [
      "\u001B[31m---------------------------------------------------------------------------\u001B[39m",
      "\u001B[31mNameError\u001B[39m                                 Traceback (most recent call last)",
      "\u001B[36mCell\u001B[39m\u001B[36m \u001B[39m\u001B[32mIn[2]\u001B[39m\u001B[32m, line 34\u001B[39m\n\u001B[32m     29\u001B[39m         \u001B[38;5;66;03m# utf-8 방식에 BOM(Byte Order Mark) 이라는 특별한 표시를\u001B[39;00m\n\u001B[32m     30\u001B[39m         \u001B[38;5;66;03m# 파일 맨 앞에 추가한 방식입니다. Excel은 이 BOM 표시를 보고 \"아, 이 파일은 UTF-8로 만들어졌구나!\"라고 정확히 인식하여\u001B[39;00m\n\u001B[32m     31\u001B[39m         \u001B[38;5;66;03m# 한글을 깨뜨리지 않고 올바르게 보여줍니다.\u001B[39;00m\n\u001B[32m     33\u001B[39m \u001B[38;5;28;01mif\u001B[39;00m \u001B[34m__name__\u001B[39m == \u001B[33m'\u001B[39m\u001B[33m__main__\u001B[39m\u001B[33m'\u001B[39m:\n\u001B[32m---> \u001B[39m\u001B[32m34\u001B[39m     \u001B[43mmain\u001B[49m\u001B[43m(\u001B[49m\u001B[43m)\u001B[49m\n",
      "\u001B[36mCell\u001B[39m\u001B[36m \u001B[39m\u001B[32mIn[2]\u001B[39m\u001B[32m, line 14\u001B[39m, in \u001B[36mmain\u001B[39m\u001B[34m()\u001B[39m\n\u001B[32m     10\u001B[39m nEndYear = \u001B[38;5;28mint\u001B[39m(\u001B[38;5;28minput\u001B[39m(\u001B[33m'\u001B[39m\u001B[33m데이터를 몇 년까지 수집할까요? : \u001B[39m\u001B[33m'\u001B[39m))\n\u001B[32m     11\u001B[39m ed_cd = \u001B[33m\"\u001B[39m\u001B[33mE\u001B[39m\u001B[33m\"\u001B[39m     \u001B[38;5;66;03m#E : 방한외래관광객, D : 해외 출국\u001B[39;00m\n\u001B[32m     13\u001B[39m jsonResult, result, natName, ed, dataEND = \\\n\u001B[32m---> \u001B[39m\u001B[32m14\u001B[39m             \u001B[43mgetTourismStatsService\u001B[49m(nat_cd, ed_cd, nStartYear, nEndYear) \u001B[38;5;66;03m#[CODE 3]\u001B[39;00m\n\u001B[32m     16\u001B[39m \u001B[38;5;28;01mif\u001B[39;00m (natName==\u001B[33m'\u001B[39m\u001B[33m'\u001B[39m) : \u001B[38;5;66;03m#URL 요청은 성공하였지만, 데이터 제공이 안된 경우\u001B[39;00m\n\u001B[32m     17\u001B[39m     \u001B[38;5;28mprint\u001B[39m(\u001B[33m'\u001B[39m\u001B[33m데이터가 전달되지 않았습니다. 공공데이터포털의 서비스 상태를 확인하기 바랍니다.\u001B[39m\u001B[33m'\u001B[39m)\n",
      "\u001B[31mNameError\u001B[39m: name 'getTourismStatsService' is not defined"
     ]
    }
   ],
   "execution_count": 2
  },
  {
   "metadata": {
    "ExecuteTime": {
     "end_time": "2025-09-08T05:03:53.694642Z",
     "start_time": "2025-09-08T05:03:53.690265Z"
    }
   },
   "cell_type": "code",
   "source": "",
   "id": "6c7b7107ac62c7eb",
   "outputs": [],
   "execution_count": null
  }
 ],
 "metadata": {
  "kernelspec": {
   "display_name": "Python 3",
   "language": "python",
   "name": "python3"
  },
  "language_info": {
   "codemirror_mode": {
    "name": "ipython",
    "version": 2
   },
   "file_extension": ".py",
   "mimetype": "text/x-python",
   "name": "python",
   "nbconvert_exporter": "python",
   "pygments_lexer": "ipython2",
   "version": "2.7.6"
  }
 },
 "nbformat": 4,
 "nbformat_minor": 5
}
