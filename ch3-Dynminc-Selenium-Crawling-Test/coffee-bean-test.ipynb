{
 "cells": [
  {
   "cell_type": "code",
   "id": "initial_id",
   "metadata": {
    "collapsed": true,
    "ExecuteTime": {
     "end_time": "2025-09-09T08:16:53.604233Z",
     "start_time": "2025-09-09T08:16:53.593680Z"
    }
   },
   "source": [
    "# https://www.coffeebeankorea.com/robots.txt\n",
    "# User-agent: *\n",
    "# Allow: /\n",
    "# 수집 모두 허용 확인.\n",
    "\n",
    "# 각 매장의 정보를 가져와서,\n",
    "# 파일 기반 저장 :csv, json\n",
    "# 데이터베이스 저장, 마리아 디비\n",
    "\n",
    "# 커피빈 사이트 -> 매장 찾기\n",
    "# https://www.coffeebeankorea.com/store/store.asp\n"
   ],
   "outputs": [],
   "execution_count": 1
  },
  {
   "metadata": {
    "ExecuteTime": {
     "end_time": "2025-09-09T08:16:53.632170Z",
     "start_time": "2025-09-09T08:16:53.627391Z"
    }
   },
   "cell_type": "code",
   "source": [
    "# 해당 사이트, 매장 찾기\n",
    "# 자세히 보기 커서를 가까이 가져가면 -> 자바스크립트 함수 명 확인\n",
    "# 예) storePop2('33') 이런 형식의 함수를 호출\n",
    "# 코엑스웨스틴서울점262m -> 142 -> storePop2('142')\n",
    "\n",
    "# 각 요소를 분석\n",
    "# 1. 매장명 가져오기.\n",
    "# div 태그, class=\"store_txt\" -> 하위에 h2 태그로\n",
    "\n",
    "# 2. 주소 가져오기. 3번째요소 -> 인덱스 :2\n",
    "# div 태그, class=\"store_txt\" -> 하위에 테이블 태그, class=\"store_table\" ->\n",
    "# tbody 태그 -> tr 태그 -> td 태그\n",
    "\n",
    "# 3. 전화번호 가져오기. 4번째요소 -> 인덱스 :3\n",
    "# div 태그, class=\"store_txt\" -> 하위에 테이블 태그, class=\"store_table\" ->\n",
    "# tbody 태그 -> tr 태그 -> td 태그"
   ],
   "id": "ff7093882520fbc0",
   "outputs": [],
   "execution_count": 2
  },
  {
   "metadata": {
    "ExecuteTime": {
     "end_time": "2025-09-09T08:16:54.252085Z",
     "start_time": "2025-09-09T08:16:53.644727Z"
    }
   },
   "cell_type": "code",
   "source": [
    "import time\n",
    "import json\n",
    "import pandas as pd\n",
    "import pymysql\n",
    "from bs4 import BeautifulSoup\n",
    "from selenium import webdriver\n",
    "\n",
    "def CoffeeBean_store():\n",
    "    CoffeeBean_URL = \"https://www.coffeebeankorea.com/store/store.asp\"\n",
    "    wd = webdriver.Chrome()\n",
    "\n",
    "    result = []\n",
    "\n",
    "    for i in range(1, 10):  # 마지막 매장번호(최신 매장까지 크롤링),1~395\n",
    "        wd.get(CoffeeBean_URL)\n",
    "        time.sleep(1)  # 웹페이지 연결 대기\n",
    "\n",
    "        try:\n",
    "            wd.execute_script(f\"storePop2({i})\")\n",
    "            time.sleep(3)  # 스크립트 실행 대기\n",
    "            html = wd.page_source\n",
    "            soupCB = BeautifulSoup(html, 'html.parser')\n",
    "\n",
    "            # 매장명 가져오기\n",
    "            # 1. 매장명 가져오기.\n",
    "            # div 태그, class=\"store_txt\" -> 하위에 h2 태그로\n",
    "            store_name_h2 = soupCB.select(\"div.store_txt > h2\")\n",
    "            store_name = store_name_h2[0].string.strip() if store_name_h2 else \"정보 없음\"\n",
    "\n",
    "            #유효성 체크 걸기, 즉 매장 이름 -> 정보 없음 건너뛰기\n",
    "            if store_name == \"정보 없음\":\n",
    "                print(f\"[{i}] 매장 정보가 존재하지 않아 건너뜁니다.\")\n",
    "                continue\n",
    "\n",
    "            # 주소 및 전화번호 가져오기\n",
    "            # 2. 주소 가져오기. 3번째요소 -> 인덱스 :2\n",
    "            # div 태그, class=\"store_txt\" -> 하위에 테이블 태그, class=\"store_table\" ->\n",
    "            # tbody 태그 -> tr 태그 -> td 태그\n",
    "\n",
    "            # 3. 전화번호 가져오기. 4번째요소 -> 인덱스 :3\n",
    "            # div 태그, class=\"store_txt\" -> 하위에 테이블 태그, class=\"store_table\" ->\n",
    "            # tbody 태그 -> tr 태그 -> td 태그\n",
    "            store_info = soupCB.select(\"div.store_txt > table.store_table > tbody > tr > td\")\n",
    "            store_address = store_info[2].text.strip() if len(store_info) > 2 else \"주소 없음\"\n",
    "            store_phone = store_info[3].text.strip() if len(store_info) > 3 else \"전화번호 없음\"\n",
    "\n",
    "            print(f\"📍 매장명: {store_name} | 📍 주소: {store_address} | 📞 전화번호: {store_phone}\")\n",
    "\n",
    "            result.append({\"index\": i,\"store\": store_name, \"address\": store_address, \"phone\": store_phone})\n",
    "\n",
    "        except Exception as e:\n",
    "            print(f\"❌ 오류 발생: {e}\")\n",
    "            continue\n",
    "\n",
    "    wd.quit()\n",
    "    return result"
   ],
   "id": "afb3e01b6e8ff045",
   "outputs": [],
   "execution_count": 3
  },
  {
   "metadata": {
    "ExecuteTime": {
     "end_time": "2025-09-09T08:16:54.263705Z",
     "start_time": "2025-09-09T08:16:54.258365Z"
    }
   },
   "cell_type": "code",
   "source": [
    "# JSON 파일 저장 ---\n",
    "def save_to_json(data):\n",
    "    json_file = \"CoffeeBean.json\"\n",
    "    with open(json_file, \"w\", encoding=\"utf-8\") as f:\n",
    "        json.dump(data, f, ensure_ascii=False, indent=4)\n",
    "    print(f\"✅ JSON 파일 저장 완료: {json_file}\")\n",
    "\n",
    "# MariaDB(MySQL) 저장 ---\n",
    "def save_to_mariadb(data):\n",
    "    db = pymysql.connect(\n",
    "        host=\"localhost\",\n",
    "        user=\"webuser\",  # 변경 필요\n",
    "        password=\"webuser\",  # 변경 필요\n",
    "        database=\"webdb\"\n",
    "    )\n",
    "    cursor = db.cursor()\n",
    "\n",
    "    # 테이블 생성 (처음 실행 시 필요)\n",
    "    create_table_query = \"\"\"\n",
    "    CREATE TABLE IF NOT EXISTS coffeebean_stores (\n",
    "        id INT AUTO_INCREMENT PRIMARY KEY,\n",
    "        store VARCHAR(255) NOT NULL,\n",
    "        address TEXT NOT NULL,\n",
    "        phone VARCHAR(50)\n",
    "    )\n",
    "    \"\"\"\n",
    "    cursor.execute(create_table_query)\n",
    "\n",
    "    # 데이터 저장 쿼리\n",
    "    insert_query = \"\"\"\n",
    "    INSERT INTO coffeebean_stores (store, address, phone)\n",
    "    VALUES (%s, %s, %s)\n",
    "    \"\"\"\n",
    "\n",
    "    try:\n",
    "        cursor.executemany(insert_query, [(d[\"store\"], d[\"address\"], d[\"phone\"]) for d in data])\n",
    "        db.commit()\n",
    "        print(f\"✅ {len(data)}개의 매장 데이터가 MariaDB에 저장되었습니다.\")\n",
    "    except Exception as e:\n",
    "        db.rollback()\n",
    "        print(f\"❌ 데이터 저장 중 오류 발생: {e}\")\n",
    "\n",
    "    cursor.close()\n",
    "    db.close()"
   ],
   "id": "43251cc57944c670",
   "outputs": [],
   "execution_count": 4
  },
  {
   "metadata": {
    "ExecuteTime": {
     "end_time": "2025-09-09T08:17:10.740777Z",
     "start_time": "2025-09-09T08:16:54.275294Z"
    }
   },
   "cell_type": "code",
   "source": [
    "def main():\n",
    "    print(\"🚀 CoffeeBean 매장 정보 크롤링 시작...\")\n",
    "    store_data = CoffeeBean_store()\n",
    "\n",
    "    print(f\"store_data 확인 : {store_data} \")\n",
    "    # 파일 기반 저장,\n",
    "    print(\"\\n💾 JSON 파일 저장 중...\")\n",
    "    save_to_json(store_data)\n",
    "    # 데이터베이스 저장.\n",
    "    print(\"\\n📂 MariaDB 저장 중...\")\n",
    "    save_to_mariadb(store_data)\n",
    "\n",
    "    print(\"\\n🎉 모든 작업 완료!\")\n",
    "\n",
    "if __name__ == '__main__':\n",
    "    main()"
   ],
   "id": "f60c5bb5b486804d",
   "outputs": [
    {
     "name": "stdout",
     "output_type": "stream",
     "text": [
      "🚀 CoffeeBean 매장 정보 크롤링 시작...\n",
      "[1] 매장 정보가 존재하지 않아 건너뜁니다.\n",
      "❌ 오류 발생: Message: invalid session id: session deleted as the browser has closed the connection\n",
      "from disconnected: not connected to DevTools\n",
      "  (Session info: chrome=140.0.7339.81); For documentation on this error, please visit: https://www.selenium.dev/documentation/webdriver/troubleshooting/errors#invalidsessionidexception\n",
      "Stacktrace:\n",
      "\tGetHandleVerifier [0x0x7ff74938fca5+79861]\n",
      "\tGetHandleVerifier [0x0x7ff74938fd00+79952]\n",
      "\t(No symbol) [0x0x7ff74910cada]\n",
      "\t(No symbol) [0x0x7ff7490f8995]\n",
      "\t(No symbol) [0x0x7ff74911dbda]\n",
      "\t(No symbol) [0x0x7ff749194346]\n",
      "\t(No symbol) [0x0x7ff7491b48c2]\n",
      "\t(No symbol) [0x0x7ff74918c8b3]\n",
      "\t(No symbol) [0x0x7ff749155272]\n",
      "\t(No symbol) [0x0x7ff749156043]\n",
      "\tGetHandleVerifier [0x0x7ff74964b9dd+2946349]\n",
      "\tGetHandleVerifier [0x0x7ff749645c5a+2922410]\n",
      "\tGetHandleVerifier [0x0x7ff7496659e7+3052855]\n",
      "\tGetHandleVerifier [0x0x7ff7493aaa8e+189918]\n",
      "\tGetHandleVerifier [0x0x7ff7493b2a2f+222591]\n",
      "\tGetHandleVerifier [0x0x7ff749398ac4+116244]\n",
      "\tGetHandleVerifier [0x0x7ff749398c79+116681]\n",
      "\tGetHandleVerifier [0x0x7ff74937f058+11176]\n",
      "\tBaseThreadInitThunk [0x0x7ffb39ca7374+20]\n",
      "\tRtlUserThreadStart [0x0x7ffb3a4bcc91+33]\n",
      "\n"
     ]
    },
    {
     "ename": "InvalidSessionIdException",
     "evalue": "Message: invalid session id; For documentation on this error, please visit: https://www.selenium.dev/documentation/webdriver/troubleshooting/errors#invalidsessionidexception\nStacktrace:\n\tGetHandleVerifier [0x0x7ff74938fca5+79861]\n\tGetHandleVerifier [0x0x7ff74938fd00+79952]\n\t(No symbol) [0x0x7ff74910c8fc]\n\t(No symbol) [0x0x7ff74915438d]\n\t(No symbol) [0x0x7ff74918c9a2]\n\t(No symbol) [0x0x7ff749187374]\n\t(No symbol) [0x0x7ff74918642a]\n\t(No symbol) [0x0x7ff7490d7075]\n\tGetHandleVerifier [0x0x7ff74964b9dd+2946349]\n\tGetHandleVerifier [0x0x7ff749645c5a+2922410]\n\tGetHandleVerifier [0x0x7ff7496659e7+3052855]\n\tGetHandleVerifier [0x0x7ff7493aaa8e+189918]\n\tGetHandleVerifier [0x0x7ff7493b2a2f+222591]\n\t(No symbol) [0x0x7ff7490d602c]\n\tGetHandleVerifier [0x0x7ff74977e408+4202328]\n\tBaseThreadInitThunk [0x0x7ffb39ca7374+20]\n\tRtlUserThreadStart [0x0x7ffb3a4bcc91+33]\n",
     "output_type": "error",
     "traceback": [
      "\u001B[31m---------------------------------------------------------------------------\u001B[39m",
      "\u001B[31mInvalidSessionIdException\u001B[39m                 Traceback (most recent call last)",
      "\u001B[36mCell\u001B[39m\u001B[36m \u001B[39m\u001B[32mIn[5]\u001B[39m\u001B[32m, line 16\u001B[39m\n\u001B[32m     13\u001B[39m     \u001B[38;5;28mprint\u001B[39m(\u001B[33m\"\u001B[39m\u001B[38;5;130;01m\\n\u001B[39;00m\u001B[33m🎉 모든 작업 완료!\u001B[39m\u001B[33m\"\u001B[39m)\n\u001B[32m     15\u001B[39m \u001B[38;5;28;01mif\u001B[39;00m \u001B[34m__name__\u001B[39m == \u001B[33m'\u001B[39m\u001B[33m__main__\u001B[39m\u001B[33m'\u001B[39m:\n\u001B[32m---> \u001B[39m\u001B[32m16\u001B[39m     \u001B[43mmain\u001B[49m\u001B[43m(\u001B[49m\u001B[43m)\u001B[49m\n",
      "\u001B[36mCell\u001B[39m\u001B[36m \u001B[39m\u001B[32mIn[5]\u001B[39m\u001B[32m, line 3\u001B[39m, in \u001B[36mmain\u001B[39m\u001B[34m()\u001B[39m\n\u001B[32m      1\u001B[39m \u001B[38;5;28;01mdef\u001B[39;00m\u001B[38;5;250m \u001B[39m\u001B[34mmain\u001B[39m():\n\u001B[32m      2\u001B[39m     \u001B[38;5;28mprint\u001B[39m(\u001B[33m\"\u001B[39m\u001B[33m🚀 CoffeeBean 매장 정보 크롤링 시작...\u001B[39m\u001B[33m\"\u001B[39m)\n\u001B[32m----> \u001B[39m\u001B[32m3\u001B[39m     store_data = \u001B[43mCoffeeBean_store\u001B[49m\u001B[43m(\u001B[49m\u001B[43m)\u001B[49m\n\u001B[32m      5\u001B[39m     \u001B[38;5;28mprint\u001B[39m(\u001B[33mf\u001B[39m\u001B[33m\"\u001B[39m\u001B[33mstore_data 확인 : \u001B[39m\u001B[38;5;132;01m{\u001B[39;00mstore_data\u001B[38;5;132;01m}\u001B[39;00m\u001B[33m \u001B[39m\u001B[33m\"\u001B[39m)\n\u001B[32m      6\u001B[39m     \u001B[38;5;66;03m# 파일 기반 저장,\u001B[39;00m\n",
      "\u001B[36mCell\u001B[39m\u001B[36m \u001B[39m\u001B[32mIn[3]\u001B[39m\u001B[32m, line 15\u001B[39m, in \u001B[36mCoffeeBean_store\u001B[39m\u001B[34m()\u001B[39m\n\u001B[32m     12\u001B[39m result = []\n\u001B[32m     14\u001B[39m \u001B[38;5;28;01mfor\u001B[39;00m i \u001B[38;5;129;01min\u001B[39;00m \u001B[38;5;28mrange\u001B[39m(\u001B[32m1\u001B[39m, \u001B[32m10\u001B[39m):  \u001B[38;5;66;03m# 마지막 매장번호(최신 매장까지 크롤링),1~395\u001B[39;00m\n\u001B[32m---> \u001B[39m\u001B[32m15\u001B[39m     \u001B[43mwd\u001B[49m\u001B[43m.\u001B[49m\u001B[43mget\u001B[49m\u001B[43m(\u001B[49m\u001B[43mCoffeeBean_URL\u001B[49m\u001B[43m)\u001B[49m\n\u001B[32m     16\u001B[39m     time.sleep(\u001B[32m1\u001B[39m)  \u001B[38;5;66;03m# 웹페이지 연결 대기\u001B[39;00m\n\u001B[32m     18\u001B[39m     \u001B[38;5;28;01mtry\u001B[39;00m:\n",
      "\u001B[36mFile \u001B[39m\u001B[32m~\\AppData\\Roaming\\Python\\Python313\\site-packages\\selenium\\webdriver\\remote\\webdriver.py:483\u001B[39m, in \u001B[36mWebDriver.get\u001B[39m\u001B[34m(self, url)\u001B[39m\n\u001B[32m    465\u001B[39m \u001B[38;5;28;01mdef\u001B[39;00m\u001B[38;5;250m \u001B[39m\u001B[34mget\u001B[39m(\u001B[38;5;28mself\u001B[39m, url: \u001B[38;5;28mstr\u001B[39m) -> \u001B[38;5;28;01mNone\u001B[39;00m:\n\u001B[32m    466\u001B[39m \u001B[38;5;250m    \u001B[39m\u001B[33;03m\"\"\"Navigate the browser to the specified URL in the current window or\u001B[39;00m\n\u001B[32m    467\u001B[39m \u001B[33;03m    tab.\u001B[39;00m\n\u001B[32m    468\u001B[39m \n\u001B[32m   (...)\u001B[39m\u001B[32m    481\u001B[39m \u001B[33;03m    >>> driver.get(\"https://example.com\")\u001B[39;00m\n\u001B[32m    482\u001B[39m \u001B[33;03m    \"\"\"\u001B[39;00m\n\u001B[32m--> \u001B[39m\u001B[32m483\u001B[39m     \u001B[38;5;28;43mself\u001B[39;49m\u001B[43m.\u001B[49m\u001B[43mexecute\u001B[49m\u001B[43m(\u001B[49m\u001B[43mCommand\u001B[49m\u001B[43m.\u001B[49m\u001B[43mGET\u001B[49m\u001B[43m,\u001B[49m\u001B[43m \u001B[49m\u001B[43m{\u001B[49m\u001B[33;43m\"\u001B[39;49m\u001B[33;43murl\u001B[39;49m\u001B[33;43m\"\u001B[39;49m\u001B[43m:\u001B[49m\u001B[43m \u001B[49m\u001B[43murl\u001B[49m\u001B[43m}\u001B[49m\u001B[43m)\u001B[49m\n",
      "\u001B[36mFile \u001B[39m\u001B[32m~\\AppData\\Roaming\\Python\\Python313\\site-packages\\selenium\\webdriver\\remote\\webdriver.py:458\u001B[39m, in \u001B[36mWebDriver.execute\u001B[39m\u001B[34m(self, driver_command, params)\u001B[39m\n\u001B[32m    455\u001B[39m response = cast(RemoteConnection, \u001B[38;5;28mself\u001B[39m.command_executor).execute(driver_command, params)\n\u001B[32m    457\u001B[39m \u001B[38;5;28;01mif\u001B[39;00m response:\n\u001B[32m--> \u001B[39m\u001B[32m458\u001B[39m     \u001B[38;5;28;43mself\u001B[39;49m\u001B[43m.\u001B[49m\u001B[43merror_handler\u001B[49m\u001B[43m.\u001B[49m\u001B[43mcheck_response\u001B[49m\u001B[43m(\u001B[49m\u001B[43mresponse\u001B[49m\u001B[43m)\u001B[49m\n\u001B[32m    459\u001B[39m     response[\u001B[33m\"\u001B[39m\u001B[33mvalue\u001B[39m\u001B[33m\"\u001B[39m] = \u001B[38;5;28mself\u001B[39m._unwrap_value(response.get(\u001B[33m\"\u001B[39m\u001B[33mvalue\u001B[39m\u001B[33m\"\u001B[39m, \u001B[38;5;28;01mNone\u001B[39;00m))\n\u001B[32m    460\u001B[39m     \u001B[38;5;28;01mreturn\u001B[39;00m response\n",
      "\u001B[36mFile \u001B[39m\u001B[32m~\\AppData\\Roaming\\Python\\Python313\\site-packages\\selenium\\webdriver\\remote\\errorhandler.py:232\u001B[39m, in \u001B[36mErrorHandler.check_response\u001B[39m\u001B[34m(self, response)\u001B[39m\n\u001B[32m    230\u001B[39m         alert_text = value[\u001B[33m\"\u001B[39m\u001B[33malert\u001B[39m\u001B[33m\"\u001B[39m].get(\u001B[33m\"\u001B[39m\u001B[33mtext\u001B[39m\u001B[33m\"\u001B[39m)\n\u001B[32m    231\u001B[39m     \u001B[38;5;28;01mraise\u001B[39;00m exception_class(message, screen, stacktrace, alert_text)  \u001B[38;5;66;03m# type: ignore[call-arg]  # mypy is not smart enough here\u001B[39;00m\n\u001B[32m--> \u001B[39m\u001B[32m232\u001B[39m \u001B[38;5;28;01mraise\u001B[39;00m exception_class(message, screen, stacktrace)\n",
      "\u001B[31mInvalidSessionIdException\u001B[39m: Message: invalid session id; For documentation on this error, please visit: https://www.selenium.dev/documentation/webdriver/troubleshooting/errors#invalidsessionidexception\nStacktrace:\n\tGetHandleVerifier [0x0x7ff74938fca5+79861]\n\tGetHandleVerifier [0x0x7ff74938fd00+79952]\n\t(No symbol) [0x0x7ff74910c8fc]\n\t(No symbol) [0x0x7ff74915438d]\n\t(No symbol) [0x0x7ff74918c9a2]\n\t(No symbol) [0x0x7ff749187374]\n\t(No symbol) [0x0x7ff74918642a]\n\t(No symbol) [0x0x7ff7490d7075]\n\tGetHandleVerifier [0x0x7ff74964b9dd+2946349]\n\tGetHandleVerifier [0x0x7ff749645c5a+2922410]\n\tGetHandleVerifier [0x0x7ff7496659e7+3052855]\n\tGetHandleVerifier [0x0x7ff7493aaa8e+189918]\n\tGetHandleVerifier [0x0x7ff7493b2a2f+222591]\n\t(No symbol) [0x0x7ff7490d602c]\n\tGetHandleVerifier [0x0x7ff74977e408+4202328]\n\tBaseThreadInitThunk [0x0x7ffb39ca7374+20]\n\tRtlUserThreadStart [0x0x7ffb3a4bcc91+33]\n"
     ]
    }
   ],
   "execution_count": 5
  }
 ],
 "metadata": {
  "kernelspec": {
   "display_name": "Python 3",
   "language": "python",
   "name": "python3"
  },
  "language_info": {
   "codemirror_mode": {
    "name": "ipython",
    "version": 2
   },
   "file_extension": ".py",
   "mimetype": "text/x-python",
   "name": "python",
   "nbconvert_exporter": "python",
   "pygments_lexer": "ipython2",
   "version": "2.7.6"
  }
 },
 "nbformat": 4,
 "nbformat_minor": 5
}
