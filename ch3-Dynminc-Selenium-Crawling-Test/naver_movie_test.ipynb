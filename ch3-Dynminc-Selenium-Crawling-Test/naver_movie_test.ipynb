{
 "cells": [
  {
   "metadata": {
    "ExecuteTime": {
     "end_time": "2025-09-09T08:18:01.651676Z",
     "start_time": "2025-09-09T08:18:01.629431Z"
    }
   },
   "cell_type": "code",
   "source": [
    "import time\n",
    "import json\n",
    "import pandas as pd\n",
    "import pymysql\n",
    "from bs4 import BeautifulSoup\n",
    "from selenium import webdriver\n",
    "\n",
    "# --- 1. 네이버 영화 랭킹 크롤링 함수 ---\n",
    "def scrape_naver_movie_rank():\n",
    "     # Selenium과 BeautifulSoup을 이용해 네이버 영화 랭킹 정보를 가져오는 함수\n",
    "    URL = \"https://movie.naver.com/movie/sdb/rank/rmovie.naver\"\n",
    "    driver = webdriver.Chrome()\n",
    "    ranks = []\n",
    "\n",
    "    print(\"네이버 영화 랭킹 페이지 크롤링을 시작합니다.\")\n",
    "\n",
    "    try:\n",
    "        driver.get(URL)\n",
    "        time.sleep(2)\n",
    "\n",
    "        html = driver.page_source\n",
    "        soup = BeautifulSoup(html, 'html.parser')\n",
    "\n",
    "        movie_list = soup.select('table.list_ranking tbody > tr')\n",
    "\n",
    "        for movie in movie_list:\n",
    "            title_tag = movie.select_one('div.tit3 > a')\n",
    "            rank_tag = movie.select_one('td.ac > img')\n",
    "            point_tag = movie.select_one('td.point')\n",
    "\n",
    "            if title_tag and rank_tag and point_tag:\n",
    "                rank = rank_tag['alt']\n",
    "                title = title_tag.text.strip()\n",
    "                point = point_tag.text.strip()\n",
    "\n",
    "                ranks.append({'rank': rank, 'title': title, 'point': point})\n",
    "\n",
    "        print(\"영화 정보 추출 완료\")\n",
    "\n",
    "    except Exception as e:\n",
    "        print(f\"크롤링 중 오류 발생 : {e}\")\n",
    "\n",
    "    finally:\n",
    "        driver.quit()\n",
    "        print(\"브라우저를 종료합니다.\")\n",
    "\n",
    "    return ranks"
   ],
   "id": "40014b0fc0ce1d5a",
   "outputs": [],
   "execution_count": 11
  },
  {
   "metadata": {
    "ExecuteTime": {
     "end_time": "2025-09-09T08:18:01.667312Z",
     "start_time": "2025-09-09T08:18:01.659960Z"
    }
   },
   "cell_type": "code",
   "source": [
    "# --- 2. 데이터베이스 저장 함수 ---\n",
    "def save_to_mariadb(data):\n",
    "    \"\"\"\n",
    "    크롤링한 데이터를 MariaDB에 저장하는 함수\n",
    "    \"\"\"\n",
    "    # DB 연결 설정 (!!! 본인 환경에 맞게 수정하세요 !!!)\n",
    "    try:\n",
    "        db = pymysql.connect(\n",
    "            host=\"localhost\",\n",
    "            user=\"webuser\",      # 여기에 DB 사용자 이름\n",
    "            password=\"webuser\",  # 여기에 DB 비밀번호\n",
    "            database=\"webdb\",    # 접속할 데이터베이스 이름\n",
    "            charset='utf8mb4'    # 한글 깨짐 방지를 위해 utf8mb4 설정\n",
    "        )\n",
    "        cursor = db.cursor()\n",
    "\n",
    "        # 테이블 생성\n",
    "        create_table_query = \"\"\"\n",
    "        CREATE TABLE IF NOT EXISTS naver_movie_ranks (\n",
    "            id INT AUTO_INCREMENT PRIMARY KEY,\n",
    "            rank VARCHAR(10) NOT NULL,\n",
    "            title VARCHAR(255) NOT NULL,\n",
    "            point VARCHAR(10)\n",
    "        )\n",
    "        \"\"\"\n",
    "        cursor.execute(create_table_query)\n",
    "\n",
    "        # 데이터 저장\n",
    "        insert_query = \"\"\"\n",
    "        INSERT INTO naver_movie_ranks (rank, title, point)\n",
    "        VALUES (%s, %s, %s)\n",
    "        \"\"\"\n",
    "\n",
    "        cursor.executemany(insert_query, [(d[\"rank\"], d[\"title\"], d[\"point\"]) for d in data])\n",
    "        db.commit()\n",
    "        print(f\"{len(data)}개의 영화 데이터가 MariaDB에 성공적으로 저장되었습니다.\")\n",
    "\n",
    "    except Exception as e:\n",
    "        print(f\"데이터베이스 작업 중 오류 발생 : {e}\")\n",
    "        if 'db' in locals() and db.open:\n",
    "            db.rollback()\n",
    "\n",
    "    finally:\n",
    "        if 'db' in locals() and db.open:\n",
    "            cursor.close()\n",
    "            db.close()"
   ],
   "id": "55f17b50c719c454",
   "outputs": [],
   "execution_count": 12
  },
  {
   "metadata": {
    "ExecuteTime": {
     "end_time": "2025-09-09T08:18:01.700911Z",
     "start_time": "2025-09-09T08:18:01.695523Z"
    }
   },
   "cell_type": "code",
   "source": [
    " # --- 3. JSON 파일 저장 함수 ---\n",
    "def save_to_json(data):\n",
    "    file_name = \"naver_movie_rank.json\"\n",
    "\n",
    "    try:\n",
    "        with open(file_name, \"w\", encoding=\"utf-8\") as f:\n",
    "            json.dump(data, f, ensure_ascii=False, indent=4)\n",
    "\n",
    "        print(f\"{len(data)}개의 영화 데이터가 '{file_name}' 파일로 성공적으로 저장되었습니다.\")\n",
    "\n",
    "    except Exception as e:\n",
    "        print(f\"JSON 파일 저장 중 오류 발생 : {e}\")"
   ],
   "id": "a6903597a32ac84f",
   "outputs": [],
   "execution_count": 13
  },
  {
   "metadata": {
    "ExecuteTime": {
     "end_time": "2025-09-09T08:18:01.718911Z",
     "start_time": "2025-09-09T08:18:01.714311Z"
    }
   },
   "cell_type": "code",
   "source": [
    "# --- 4. 프로그램의 메인 실행 함수 ---\n",
    "def main():\n",
    "    \"\"\"\n",
    "    프로그램의 전체 실행 흐름을 제어하는 함수\n",
    "    \"\"\"\n",
    "    print(\"모든 프로세스를 시작합니다.\")\n",
    "\n",
    "    # 1. 크롤링 함수를 호출하여 영화 데이터를 가져옵니다.\n",
    "    movie_data = scrape_naver_movie_rank()\n",
    "\n",
    "    # 2. 가져온 데이터가 있는지 확인합니다.\n",
    "    if movie_data:\n",
    "        print(f\"\\n총 {len(movie_data)}개의 영화 데이터를 성공적으로 가져왔습니다.\")\n",
    "        # 3. DB 저장 함수를 호출하여 가져온 데이터를 DB에 저장합니다.\n",
    "        save_to_mariadb(movie_data)\n",
    "    else:\n",
    "        print(\"가져온 영화 데이터가 없습니다.\")\n",
    "\n",
    "    print(\"\\n모든 작업 완료\")"
   ],
   "id": "57db3a7b6438b73f",
   "outputs": [],
   "execution_count": 14
  },
  {
   "metadata": {
    "ExecuteTime": {
     "end_time": "2025-09-09T08:18:08.192799Z",
     "start_time": "2025-09-09T08:18:01.727256Z"
    }
   },
   "cell_type": "code",
   "source": [
    "# --- 5. 스크립트의 시작점 ---\n",
    "# 이 파일이 직접 실행될 때만 main() 함수를 호출합니다.\n",
    "if __name__ == '__main__':\n",
    "    main()"
   ],
   "id": "10fad3f30af993b9",
   "outputs": [
    {
     "name": "stdout",
     "output_type": "stream",
     "text": [
      "모든 프로세스를 시작합니다.\n",
      "네이버 영화 랭킹 페이지 크롤링을 시작합니다.\n",
      "영화 정보 추출 완료\n",
      "브라우저를 종료합니다.\n",
      "가져온 영화 데이터가 없습니다.\n",
      "\n",
      "모든 작업 완료\n"
     ]
    }
   ],
   "execution_count": 15
  }
 ],
 "metadata": {
  "kernelspec": {
   "display_name": "Python 3",
   "language": "python",
   "name": "python3"
  },
  "language_info": {
   "codemirror_mode": {
    "name": "ipython",
    "version": 2
   },
   "file_extension": ".py",
   "mimetype": "text/x-python",
   "name": "python",
   "nbconvert_exporter": "python",
   "pygments_lexer": "ipython2",
   "version": "2.7.6"
  }
 },
 "nbformat": 4,
 "nbformat_minor": 5
}
