{
 "cells": [
  {
   "cell_type": "code",
   "id": "initial_id",
   "metadata": {
    "collapsed": true,
    "ExecuteTime": {
     "end_time": "2025-09-09T00:43:56.920273Z",
     "start_time": "2025-09-09T00:43:53.276373Z"
    }
   },
   "source": [
    "# selenium 설치,\n",
    "# pip install selenium\n",
    "\n",
    "# 웹 드라이버 실행, (Chrome)\n",
    "from selenium import webdriver\n",
    "from selenium.webdriver import ActionChains\n",
    "\n",
    "# Chrome 드라이버 실행.\n",
    "driver = webdriver.Chrome()\n",
    "# 특정 URL 열기. 구글\n",
    "driver.get(\"http://www.google.com\")\n",
    "# driver.quit()"
   ],
   "outputs": [],
   "execution_count": 1
  },
  {
   "metadata": {
    "ExecuteTime": {
     "end_time": "2025-09-09T01:04:36.712333Z",
     "start_time": "2025-09-09T01:04:33.662827Z"
    }
   },
   "cell_type": "code",
   "source": [
    "# 2 웹페이지 요소 찾기 (find_element, find_elements)\n",
    "from selenium import webdriver\n",
    "\n",
    "driver = webdriver.Chrome()\n",
    "driver.get(\"http://www.google.com\")\n",
    "\n",
    "#요소 찾기 (name 속성 사용)\n",
    "search_box = driver.find_element(\"name\",\"q\")\n",
    "print(search_box)\n",
    "\n",
    "#요소 여러 개 찾기 (class 속성 사용)\n",
    "links = driver.find_elements(\"tag name\", \"a\")\n",
    "print(len(links))\n",
    "# driver.quit()"
   ],
   "id": "7d5983201b8b8a4c",
   "outputs": [
    {
     "name": "stdout",
     "output_type": "stream",
     "text": [
      "<selenium.webdriver.remote.webelement.WebElement (session=\"ead1128616fa580f2e08e509b426e424\", element=\"f.C3559AF57B7491B5727834025B10AE54.d.CE5D61DA57156C00922A0593807BCD9D.e.1\")>\n",
      "16\n"
     ]
    }
   ],
   "execution_count": 2
  },
  {
   "metadata": {
    "ExecuteTime": {
     "end_time": "2025-09-09T01:06:29.990849Z",
     "start_time": "2025-09-09T01:06:20.093693Z"
    }
   },
   "cell_type": "code",
   "source": [
    "# 3 웹 페이지 로딩 대기( implicitly_wait, time.sleep)\n",
    "# 웹페이지가 완전히 로드될 때까지 기다리는 기능,\n",
    "from selenium import webdriver\n",
    "import time\n",
    "\n",
    "driver = webdriver.Chrome()\n",
    "driver.get(\"http://www.google.com\")\n",
    "\n",
    "#암묵적 대기, (최대 10초까지 대기, 실행이 되면, 즉시 실행)\n",
    "# 전역처럼, 한번만 실행함.\n",
    "# driver.implicitly_wait(10)\n",
    "\n",
    "# 명시적 대기 (5초), 무조건 5초 기다림. , 매번 코드를 작성해야함.\n",
    "time.sleep(5)\n",
    "driver.quit()"
   ],
   "id": "758071196fa50c10",
   "outputs": [],
   "execution_count": 3
  },
  {
   "metadata": {
    "ExecuteTime": {
     "end_time": "2025-09-09T01:07:26.801054Z",
     "start_time": "2025-09-09T01:07:11.747098Z"
    }
   },
   "cell_type": "code",
   "source": [
    "# 4 특정 요소 클릭 (click)\n",
    "from selenium import webdriver\n",
    "import time\n",
    "\n",
    "driver = webdriver.Chrome()\n",
    "driver.get(\"http://www.google.com\")\n",
    "\n",
    "time.sleep(5)\n",
    "\n",
    "# 구글 , 이메일 버튼 클릭, Gmail\n",
    "button = driver.find_element(\"link text\", \"Gmail\")\n",
    "\n",
    "button.click()\n",
    "\n",
    "time.sleep(5)\n",
    "\n",
    "# driver.quit()"
   ],
   "id": "a709eb4699b5ce4c",
   "outputs": [],
   "execution_count": 4
  },
  {
   "metadata": {
    "ExecuteTime": {
     "end_time": "2025-09-09T01:15:03.491371Z",
     "start_time": "2025-09-09T01:14:55.431704Z"
    }
   },
   "cell_type": "code",
   "source": [
    "#5 키보드 입력(send_keys())\n",
    "from selenium import webdriver\n",
    "import time\n",
    "from selenium.webdriver.common.keys import Keys\n",
    "\n",
    "driver = webdriver.Chrome()\n",
    "driver.get(\"http://www.google.com\")\n",
    "\n",
    "driver.implicitly_wait(10)\n",
    "\n",
    "search_box = driver.find_element(\"name\",\"q\")\n",
    "\n",
    "search_box.send_keys(\"날씨\")\n",
    "search_box.send_keys(Keys.RETURN)\n",
    "\n",
    "time.sleep(5)\n",
    "\n",
    "# driver.quit()"
   ],
   "id": "37fc7d564b29621a",
   "outputs": [],
   "execution_count": 5
  },
  {
   "metadata": {
    "ExecuteTime": {
     "end_time": "2025-09-09T01:16:47.614827Z",
     "start_time": "2025-09-09T01:16:37.679358Z"
    }
   },
   "cell_type": "code",
   "source": [
    "# 6 자바스크립트 실행 (excute_script())\n",
    "from selenium import webdriver\n",
    "import time\n",
    "from selenium.webdriver.common.keys import Keys\n",
    "\n",
    "driver = webdriver.Chrome()\n",
    "driver.get(\"https://news.google.com\")\n",
    "time.sleep(3)\n",
    "\n",
    "#페이지 맨 아래로 스크롤\n",
    "driver.execute_script(\"window.scrollTo(0, document.body.scrollHeight);\")\n",
    "\n",
    "time.sleep(3)\n",
    "# driver.quit()"
   ],
   "id": "7c096945de07157",
   "outputs": [],
   "execution_count": 6
  },
  {
   "metadata": {
    "ExecuteTime": {
     "end_time": "2025-09-09T01:17:42.055021Z",
     "start_time": "2025-09-09T01:17:30.864390Z"
    }
   },
   "cell_type": "code",
   "source": [
    "# 7 새창 열기 및 핸들 전환 (window_handles)\n",
    "from selenium import webdriver\n",
    "import time\n",
    "from selenium.webdriver.common.keys import Keys\n",
    "\n",
    "driver = webdriver.Chrome()\n",
    "driver.get(\"https://www.google.com\")\n",
    "time.sleep(3)\n",
    "\n",
    "# 새창 열기,\n",
    "driver.execute_script(\"window.open('https://naver.com');\")\n",
    "time.sleep(3)\n",
    "\n",
    "# 창 핸들 가져오기.\n",
    "windows = driver.window_handles\n",
    "driver.switch_to.window(windows[0])\n",
    "\n",
    "time.sleep(3)\n",
    "# driver.quit()"
   ],
   "id": "cda71a6ee590108",
   "outputs": [],
   "execution_count": 7
  },
  {
   "metadata": {
    "ExecuteTime": {
     "end_time": "2025-09-09T01:25:37.251723Z",
     "start_time": "2025-09-09T01:25:08.559118Z"
    }
   },
   "cell_type": "code",
   "source": [
    "# 8 프레임 전환( switch_to.frame() )\n",
    "from selenium import webdriver\n",
    "import time\n",
    "from selenium.webdriver.common.keys import Keys\n",
    "\n",
    "driver = webdriver.Chrome()\n",
    "\n",
    "# iframe 테스트 사이트, w3schools\n",
    "driver.get(\"https://www.w3schools.com/html/html_iframe.asp\")\n",
    "time.sleep(3)\n",
    "\n",
    "#페이지 전환, iframe 안의 콘텐츠 로딩.\n",
    "iframe = driver.find_element(\"css selector\", \"iframe[src*='default.asp']\")\n",
    "driver.switch_to.frame(iframe)\n",
    "\n",
    "# 프레임 내 요소 찾기,\n",
    "element = driver.find_element(\"css selector\", \"h1\")\n",
    "print(element.text)\n",
    "time.sleep(3)\n",
    "# driver.quit()"
   ],
   "id": "8aa9678e5185f179",
   "outputs": [
    {
     "name": "stderr",
     "output_type": "stream",
     "text": [
      "Exception ignored in: <function Service.__del__ at 0x000002B06520EC00>\n",
      "Traceback (most recent call last):\n",
      "  File \"D:\\Python-workspace-250901\\2-Python-crawling\\.venv\\Lib\\site-packages\\selenium\\webdriver\\common\\service.py\", line 196, in __del__\n",
      "    self.stop()\n",
      "  File \"D:\\Python-workspace-250901\\2-Python-crawling\\.venv\\Lib\\site-packages\\selenium\\webdriver\\common\\service.py\", line 152, in stop\n",
      "    self.send_remote_shutdown_command()\n",
      "  File \"D:\\Python-workspace-250901\\2-Python-crawling\\.venv\\Lib\\site-packages\\selenium\\webdriver\\common\\service.py\", line 137, in send_remote_shutdown_command\n",
      "    if not self.is_connectable():\n",
      "  File \"D:\\Python-workspace-250901\\2-Python-crawling\\.venv\\Lib\\site-packages\\selenium\\webdriver\\common\\service.py\", line 126, in is_connectable\n",
      "    return utils.is_connectable(self.port)\n",
      "  File \"D:\\Python-workspace-250901\\2-Python-crawling\\.venv\\Lib\\site-packages\\selenium\\webdriver\\common\\utils.py\", line 117, in is_connectable\n",
      "    socket_ = socket.create_connection((host, port), 1)\n",
      "  File \"C:\\Program Files\\Python313\\Lib\\socket.py\", line 856, in create_connection\n",
      "    exceptions.clear()  # raise only the last error\n",
      "KeyboardInterrupt: \n",
      "Exception ignored in: <function Service.__del__ at 0x000002B06520EC00>\n",
      "Traceback (most recent call last):\n",
      "  File \"D:\\Python-workspace-250901\\2-Python-crawling\\.venv\\Lib\\site-packages\\selenium\\webdriver\\common\\service.py\", line 196, in __del__\n",
      "    self.stop()\n",
      "  File \"D:\\Python-workspace-250901\\2-Python-crawling\\.venv\\Lib\\site-packages\\selenium\\webdriver\\common\\service.py\", line 152, in stop\n",
      "    self.send_remote_shutdown_command()\n",
      "  File \"D:\\Python-workspace-250901\\2-Python-crawling\\.venv\\Lib\\site-packages\\selenium\\webdriver\\common\\service.py\", line 137, in send_remote_shutdown_command\n",
      "    if not self.is_connectable():\n",
      "  File \"D:\\Python-workspace-250901\\2-Python-crawling\\.venv\\Lib\\site-packages\\selenium\\webdriver\\common\\service.py\", line 126, in is_connectable\n",
      "    return utils.is_connectable(self.port)\n",
      "  File \"D:\\Python-workspace-250901\\2-Python-crawling\\.venv\\Lib\\site-packages\\selenium\\webdriver\\common\\utils.py\", line 117, in is_connectable\n",
      "    socket_ = socket.create_connection((host, port), 1)\n",
      "  File \"C:\\Program Files\\Python313\\Lib\\socket.py\", line 856, in create_connection\n",
      "    exceptions.clear()  # raise only the last error\n",
      "KeyboardInterrupt: \n"
     ]
    },
    {
     "ename": "NoSuchWindowException",
     "evalue": "Message: no such window: target window already closed\nfrom unknown error: web view not found\n  (Session info: chrome=139.0.7258.155)\nStacktrace:\n\tGetHandleVerifier [0x0x7ff7489c3d85+79397]\n\tGetHandleVerifier [0x0x7ff7489c3de0+79488]\n\t(No symbol) [0x0x7ff74876c0fa]\n\t(No symbol) [0x0x7ff748744601]\n\t(No symbol) [0x0x7ff7487f257e]\n\t(No symbol) [0x0x7ff748812c72]\n\t(No symbol) [0x0x7ff7487eaf73]\n\t(No symbol) [0x0x7ff7487b41b1]\n\t(No symbol) [0x0x7ff7487b4f43]\n\tGetHandleVerifier [0x0x7ff748c8e1ed+3005069]\n\tGetHandleVerifier [0x0x7ff748c8831d+2980797]\n\tGetHandleVerifier [0x0x7ff748ca7e0d+3110573]\n\tGetHandleVerifier [0x0x7ff7489dd6de+184190]\n\tGetHandleVerifier [0x0x7ff7489e516f+215567]\n\tGetHandleVerifier [0x0x7ff7489cc974+115220]\n\tGetHandleVerifier [0x0x7ff7489ccb29+115657]\n\tGetHandleVerifier [0x0x7ff7489b3268+11016]\n\tBaseThreadInitThunk [0x0x7fff20ff7374+20]\n\tRtlUserThreadStart [0x0x7fff21dbcc91+33]\n",
     "output_type": "error",
     "traceback": [
      "\u001B[31m---------------------------------------------------------------------------\u001B[39m",
      "\u001B[31mNoSuchWindowException\u001B[39m                     Traceback (most recent call last)",
      "\u001B[36mCell\u001B[39m\u001B[36m \u001B[39m\u001B[32mIn[9]\u001B[39m\u001B[32m, line 14\u001B[39m\n\u001B[32m     12\u001B[39m \u001B[38;5;66;03m#페이지 전환, iframe 안의 콘텐츠 로딩.\u001B[39;00m\n\u001B[32m     13\u001B[39m iframe = driver.find_element(\u001B[33m\"\u001B[39m\u001B[33mcss selector\u001B[39m\u001B[33m\"\u001B[39m, \u001B[33m\"\u001B[39m\u001B[33miframe[src*=\u001B[39m\u001B[33m'\u001B[39m\u001B[33mdefault.asp\u001B[39m\u001B[33m'\u001B[39m\u001B[33m]\u001B[39m\u001B[33m\"\u001B[39m)\n\u001B[32m---> \u001B[39m\u001B[32m14\u001B[39m \u001B[43mdriver\u001B[49m\u001B[43m.\u001B[49m\u001B[43mswitch_to\u001B[49m\u001B[43m.\u001B[49m\u001B[43mframe\u001B[49m\u001B[43m(\u001B[49m\u001B[43miframe\u001B[49m\u001B[43m)\u001B[49m\n\u001B[32m     16\u001B[39m \u001B[38;5;66;03m# 프레임 내 요소 찾기,\u001B[39;00m\n\u001B[32m     17\u001B[39m element = driver.find_element(\u001B[33m\"\u001B[39m\u001B[33mcss selector\u001B[39m\u001B[33m\"\u001B[39m, \u001B[33m\"\u001B[39m\u001B[33mh1\u001B[39m\u001B[33m\"\u001B[39m)\n",
      "\u001B[36mFile \u001B[39m\u001B[32mD:\\Python-workspace-250901\\2-Python-crawling\\.venv\\Lib\\site-packages\\selenium\\webdriver\\remote\\switch_to.py:92\u001B[39m, in \u001B[36mSwitchTo.frame\u001B[39m\u001B[34m(self, frame_reference)\u001B[39m\n\u001B[32m     89\u001B[39m         \u001B[38;5;28;01mexcept\u001B[39;00m NoSuchElementException \u001B[38;5;28;01mas\u001B[39;00m exc:\n\u001B[32m     90\u001B[39m             \u001B[38;5;28;01mraise\u001B[39;00m NoSuchFrameException(frame_reference) \u001B[38;5;28;01mfrom\u001B[39;00m\u001B[38;5;250m \u001B[39m\u001B[34;01mexc\u001B[39;00m\n\u001B[32m---> \u001B[39m\u001B[32m92\u001B[39m \u001B[38;5;28;43mself\u001B[39;49m\u001B[43m.\u001B[49m\u001B[43m_driver\u001B[49m\u001B[43m.\u001B[49m\u001B[43mexecute\u001B[49m\u001B[43m(\u001B[49m\u001B[43mCommand\u001B[49m\u001B[43m.\u001B[49m\u001B[43mSWITCH_TO_FRAME\u001B[49m\u001B[43m,\u001B[49m\u001B[43m \u001B[49m\u001B[43m{\u001B[49m\u001B[33;43m\"\u001B[39;49m\u001B[33;43mid\u001B[39;49m\u001B[33;43m\"\u001B[39;49m\u001B[43m:\u001B[49m\u001B[43m \u001B[49m\u001B[43mframe_reference\u001B[49m\u001B[43m}\u001B[49m\u001B[43m)\u001B[49m\n",
      "\u001B[36mFile \u001B[39m\u001B[32mD:\\Python-workspace-250901\\2-Python-crawling\\.venv\\Lib\\site-packages\\selenium\\webdriver\\remote\\webdriver.py:458\u001B[39m, in \u001B[36mWebDriver.execute\u001B[39m\u001B[34m(self, driver_command, params)\u001B[39m\n\u001B[32m    455\u001B[39m response = cast(RemoteConnection, \u001B[38;5;28mself\u001B[39m.command_executor).execute(driver_command, params)\n\u001B[32m    457\u001B[39m \u001B[38;5;28;01mif\u001B[39;00m response:\n\u001B[32m--> \u001B[39m\u001B[32m458\u001B[39m     \u001B[38;5;28;43mself\u001B[39;49m\u001B[43m.\u001B[49m\u001B[43merror_handler\u001B[49m\u001B[43m.\u001B[49m\u001B[43mcheck_response\u001B[49m\u001B[43m(\u001B[49m\u001B[43mresponse\u001B[49m\u001B[43m)\u001B[49m\n\u001B[32m    459\u001B[39m     response[\u001B[33m\"\u001B[39m\u001B[33mvalue\u001B[39m\u001B[33m\"\u001B[39m] = \u001B[38;5;28mself\u001B[39m._unwrap_value(response.get(\u001B[33m\"\u001B[39m\u001B[33mvalue\u001B[39m\u001B[33m\"\u001B[39m, \u001B[38;5;28;01mNone\u001B[39;00m))\n\u001B[32m    460\u001B[39m     \u001B[38;5;28;01mreturn\u001B[39;00m response\n",
      "\u001B[36mFile \u001B[39m\u001B[32mD:\\Python-workspace-250901\\2-Python-crawling\\.venv\\Lib\\site-packages\\selenium\\webdriver\\remote\\errorhandler.py:232\u001B[39m, in \u001B[36mErrorHandler.check_response\u001B[39m\u001B[34m(self, response)\u001B[39m\n\u001B[32m    230\u001B[39m         alert_text = value[\u001B[33m\"\u001B[39m\u001B[33malert\u001B[39m\u001B[33m\"\u001B[39m].get(\u001B[33m\"\u001B[39m\u001B[33mtext\u001B[39m\u001B[33m\"\u001B[39m)\n\u001B[32m    231\u001B[39m     \u001B[38;5;28;01mraise\u001B[39;00m exception_class(message, screen, stacktrace, alert_text)  \u001B[38;5;66;03m# type: ignore[call-arg]  # mypy is not smart enough here\u001B[39;00m\n\u001B[32m--> \u001B[39m\u001B[32m232\u001B[39m \u001B[38;5;28;01mraise\u001B[39;00m exception_class(message, screen, stacktrace)\n",
      "\u001B[31mNoSuchWindowException\u001B[39m: Message: no such window: target window already closed\nfrom unknown error: web view not found\n  (Session info: chrome=139.0.7258.155)\nStacktrace:\n\tGetHandleVerifier [0x0x7ff7489c3d85+79397]\n\tGetHandleVerifier [0x0x7ff7489c3de0+79488]\n\t(No symbol) [0x0x7ff74876c0fa]\n\t(No symbol) [0x0x7ff748744601]\n\t(No symbol) [0x0x7ff7487f257e]\n\t(No symbol) [0x0x7ff748812c72]\n\t(No symbol) [0x0x7ff7487eaf73]\n\t(No symbol) [0x0x7ff7487b41b1]\n\t(No symbol) [0x0x7ff7487b4f43]\n\tGetHandleVerifier [0x0x7ff748c8e1ed+3005069]\n\tGetHandleVerifier [0x0x7ff748c8831d+2980797]\n\tGetHandleVerifier [0x0x7ff748ca7e0d+3110573]\n\tGetHandleVerifier [0x0x7ff7489dd6de+184190]\n\tGetHandleVerifier [0x0x7ff7489e516f+215567]\n\tGetHandleVerifier [0x0x7ff7489cc974+115220]\n\tGetHandleVerifier [0x0x7ff7489ccb29+115657]\n\tGetHandleVerifier [0x0x7ff7489b3268+11016]\n\tBaseThreadInitThunk [0x0x7fff20ff7374+20]\n\tRtlUserThreadStart [0x0x7fff21dbcc91+33]\n"
     ]
    }
   ],
   "execution_count": 9
  },
  {
   "metadata": {
    "ExecuteTime": {
     "end_time": "2025-09-09T01:26:46.016695Z",
     "start_time": "2025-09-09T01:26:34.339048Z"
    }
   },
   "cell_type": "code",
   "source": [
    "# 9 쿠키 가져오기 및 설정, (get_cookies, add_cookie)\n",
    "from selenium import webdriver\n",
    "import time\n",
    "from selenium.webdriver.common.keys import Keys\n",
    "\n",
    "driver = webdriver.Chrome()\n",
    "\n",
    "# iframe 테스트 사이트, w3schools\n",
    "driver.get(\"https://www.google.com\")\n",
    "time.sleep(3)\n",
    "\n",
    "# 기존 쿠키 출력\n",
    "# print(\"기존 쿠키:\")\n",
    "# print(driver.get_cookies())\n",
    "\n",
    "# 쿠키 추가,\n",
    "driver.add_cookie({\"name\":\"lsy_lunch\", \"value\":\"신라면\"})\n",
    "\n",
    "# 페이지 새로고침\n",
    "driver.refresh()\n",
    "time.sleep(3)\n",
    "\n",
    "#추가된 쿠키 확인.\n",
    "print(\"추가된 쿠키 확인 \")\n",
    "cookies = driver.get_cookies()\n",
    "print(cookies)\n",
    "\n",
    "# 특정 쿠키 값 만 출력 해보기.\n",
    "for cookie in cookies:\n",
    "    if cookie[\"name\"] == \"lsy_lunch\":\n",
    "        print(f\"추가된 값 : {cookie['value']}\")\n",
    "time.sleep(3)\n",
    "# driver.quit()"
   ],
   "id": "df42451d046ba10c",
   "outputs": [
    {
     "name": "stdout",
     "output_type": "stream",
     "text": [
      "추가된 쿠키 확인 \n",
      "[{'domain': 'www.google.com', 'httpOnly': False, 'name': 'lsy_lunch', 'path': '/', 'sameSite': 'Lax', 'secure': True, 'value': '신라면'}, {'domain': 'www.google.com', 'expiry': 1757402800, 'httpOnly': False, 'name': 'UULE', 'path': '/', 'sameSite': 'Lax', 'secure': True, 'value': 'a+cm9sZTogMQpwcm9kdWNlcjogMTIKdGltZXN0YW1wOiAxNzU3MzgxMjAwMTY1MDAwCmxhdGxuZyB7CiAgbGF0aXR1ZGVfZTc6IDM1MTUzNTEwNAogIGxvbmdpdHVkZV9lNzogMTI5MDYwMDQ0OAp9CnJhZGl1czogNTgzNjIzLjkyMjM3MDM4NzUKcHJvdmVuYW5jZTogNgo='}, {'domain': '.google.com', 'expiry': 1773192395, 'httpOnly': True, 'name': 'NID', 'path': '/', 'sameSite': 'None', 'secure': True, 'value': '525=liuawjGdDuRipsluE7b_OA-Osfmke19sYPFpw91cawMyWkdoiLAoWYqf9PcGRmzRhMg6F10Gq5Vp-3-kXGDbUKgEWxwu3QC7GU2eTEMhb6zibxC-etREz_YrMId3WO8wptCeX5tRjnigqZO2kizMw0d5ir5DHIrYDQIpJi11K6NTBADyWKes6juA10L_4f9HvUFUYTwjN-mCdWD9ce4iL22fjrly'}, {'domain': '.google.com', 'expiry': 1772933195, 'httpOnly': True, 'name': 'AEC', 'path': '/', 'sameSite': 'Lax', 'secure': True, 'value': 'AVh_V2iHUjdAPzqq3XP9lx80LQqqJIEUjiCqP1y9vpyQZxJutWPrJKxtVw'}]\n",
      "추가된 값 : 신라면\n"
     ]
    }
   ],
   "execution_count": 10
  },
  {
   "metadata": {
    "ExecuteTime": {
     "end_time": "2025-09-09T01:27:43.327482Z",
     "start_time": "2025-09-09T01:27:37.662522Z"
    }
   },
   "cell_type": "code",
   "source": [
    "# 10 스크린 샷 저장 (save_screenshot())\n",
    "from selenium import webdriver\n",
    "import time\n",
    "from selenium.webdriver.common.keys import Keys\n",
    "\n",
    "driver = webdriver.Chrome()\n",
    "driver.get(\"https://www.google.com\")\n",
    "time.sleep(3)\n",
    "\n",
    "# 스크린샷 저장,\n",
    "driver.save_screenshot(\"test_screenshot.png\")\n",
    "# driver.quit()"
   ],
   "id": "1222dc8c8852250f",
   "outputs": [
    {
     "data": {
      "text/plain": [
       "True"
      ]
     },
     "execution_count": 11,
     "metadata": {},
     "output_type": "execute_result"
    }
   ],
   "execution_count": 11
  },
  {
   "metadata": {
    "ExecuteTime": {
     "end_time": "2025-09-09T01:37:27.680547Z",
     "start_time": "2025-09-09T01:37:22.484706Z"
    }
   },
   "cell_type": "code",
   "source": [
    "# 11 특정 요소가 로드될 때까지 대기 (WebDriverWait)\n",
    "from selenium import webdriver\n",
    "import time\n",
    "from selenium.webdriver.common.keys import Keys\n",
    "from selenium.webdriver.common.by import By\n",
    "from selenium.webdriver.support.ui import WebDriverWait\n",
    "from selenium.webdriver.support import expected_conditions as EC\n",
    "\n",
    "driver = webdriver.Chrome()\n",
    "driver.get(\"https://www.google.com\")\n",
    "\n",
    "# 특정 요소가 나타날 때까지 10초 대기.\n",
    "search_box = WebDriverWait(driver, 10).until(\n",
    "    EC.presence_of_element_located((By.NAME, \"q\"))\n",
    ")\n",
    "\n",
    "search_box.send_keys(\"selenium 대기 테스트 \")\n",
    "\n",
    "time.sleep(3)\n",
    "# driver.quit()"
   ],
   "id": "c4f9ac66fbfbcc85",
   "outputs": [],
   "execution_count": 12
  },
  {
   "metadata": {
    "ExecuteTime": {
     "end_time": "2025-09-09T01:39:11.989445Z",
     "start_time": "2025-09-09T01:39:06.201414Z"
    }
   },
   "cell_type": "code",
   "source": [
    "# 12  마우스 이벤트 조작 (ActionChains)\n",
    "from selenium import webdriver\n",
    "import time\n",
    "from selenium.webdriver.common.keys import Keys\n",
    "from selenium.webdriver.common.by import By\n",
    "from selenium.webdriver.support.ui import WebDriverWait\n",
    "from selenium.webdriver.support import expected_conditions as EC\n",
    "from selenium.webdriver.common.action_chains import ActionChains\n",
    "\n",
    "driver = webdriver.Chrome()\n",
    "driver.get(\"https://www.google.com\")\n",
    "\n",
    "# 요소 찾기,\n",
    "element = driver.find_element(\"link text\", \"Gmail\")\n",
    "\n",
    "# 마우스 오버\n",
    "actions = ActionChains(driver)\n",
    "actions.move_to_element(element).perform()\n",
    "\n",
    "time.sleep(3)\n",
    "# driver.quit()"
   ],
   "id": "30f3cc7cfaa241c0",
   "outputs": [],
   "execution_count": 15
  },
  {
   "metadata": {
    "ExecuteTime": {
     "end_time": "2025-09-09T01:39:56.495380Z",
     "start_time": "2025-09-09T01:39:45.202166Z"
    }
   },
   "cell_type": "code",
   "source": [
    "# 13 입력값 삭제,\n",
    "from selenium import webdriver\n",
    "import time\n",
    "from selenium.webdriver.common.keys import Keys\n",
    "from selenium.webdriver.common.by import By\n",
    "from selenium.webdriver.support.ui import WebDriverWait\n",
    "from selenium.webdriver.support import expected_conditions as EC\n",
    "from selenium.webdriver.common.action_chains import ActionChains\n",
    "\n",
    "driver = webdriver.Chrome()\n",
    "driver.get(\"https://www.google.com\")\n",
    "\n",
    "search_box = driver.find_element(\"name\", \"q\")\n",
    "search_box.send_keys(\"selenium 입력 테스트 \")\n",
    "\n",
    "time.sleep(3)\n",
    "\n",
    "search_box.clear()\n",
    "\n",
    "time.sleep(3)\n",
    "driver.quit()"
   ],
   "id": "dfa946b9c37f4c24",
   "outputs": [],
   "execution_count": 16
  },
  {
   "metadata": {
    "ExecuteTime": {
     "end_time": "2025-09-09T01:44:46.888270Z",
     "start_time": "2025-09-09T01:44:35.187071Z"
    }
   },
   "cell_type": "code",
   "source": [
    "# 14 브라우저 창 크기 조절, (set_winodw_size())\n",
    "from selenium import webdriver\n",
    "import time\n",
    "from selenium.webdriver.common.keys import Keys\n",
    "from selenium.webdriver.common.by import By\n",
    "from selenium.webdriver.support.ui import WebDriverWait\n",
    "from selenium.webdriver.support import expected_conditions as EC\n",
    "from selenium.webdriver.common.action_chains import ActionChains\n",
    "\n",
    "driver = webdriver.Chrome()\n",
    "driver.get(\"https://www.google.com\")\n",
    "time.sleep(3)\n",
    "\n",
    "# 브라우저 크기 조절.\n",
    "driver.set_window_size(1500, 768)\n",
    "\n",
    "time.sleep(3)\n",
    "driver.quit()"
   ],
   "id": "f1e5f153039a13a9",
   "outputs": [],
   "execution_count": 17
  },
  {
   "metadata": {
    "ExecuteTime": {
     "end_time": "2025-09-09T01:45:46.550950Z",
     "start_time": "2025-09-09T01:45:33.946999Z"
    }
   },
   "cell_type": "code",
   "source": [
    "# 15 특정 요소 로드 때 까지 대기 후, 클릭 해보기.\n",
    "\n",
    "from selenium import webdriver\n",
    "import time\n",
    "from selenium.webdriver.common.keys import Keys\n",
    "from selenium.webdriver.common.by import By\n",
    "from selenium.webdriver.support.ui import WebDriverWait\n",
    "from selenium.webdriver.support import expected_conditions as EC\n",
    "from selenium.webdriver.common.action_chains import ActionChains\n",
    "\n",
    "driver = webdriver.Chrome()\n",
    "driver.get(\"https://the-internet.herokuapp.com/dynamic_loading/1\")\n",
    "time.sleep(3)\n",
    "\n",
    "# start 버튼이 클릭 가능할 때까지 10초 대기 후 클릭.\n",
    "start_button = WebDriverWait(driver, 10).until(\n",
    "    EC.element_to_be_clickable((By.CSS_SELECTOR, \"#start button\"))\n",
    ")\n",
    "\n",
    "start_button.click()\n",
    "\n",
    "#로딩이 끝나고 결과 텍스트가 보일 때까지 대기.\n",
    "finish_element = WebDriverWait(driver, 10).until(\n",
    "    EC.presence_of_element_located((By.CSS_SELECTOR, \"#finish\"))\n",
    ")\n",
    "print(f\"10초후 문자열 출력: {finish_element}\")\n",
    "time.sleep(3)\n",
    "driver.quit()"
   ],
   "id": "e4855deec549d3c3",
   "outputs": [
    {
     "name": "stdout",
     "output_type": "stream",
     "text": [
      "10초후 문자열 출력: <selenium.webdriver.remote.webelement.WebElement (session=\"072d26ef1268dc5e15294573f7b6ae92\", element=\"f.E2B59D01636EAD9A03FD4DF911FD200D.d.E7FE04B9375BCCDD407DA6C4DDA765AC.e.7\")>\n"
     ]
    }
   ],
   "execution_count": 18
  },
  {
   "metadata": {
    "ExecuteTime": {
     "end_time": "2025-09-09T01:46:29.391357Z",
     "start_time": "2025-09-09T01:46:17.429259Z"
    }
   },
   "cell_type": "code",
   "source": [
    "#16 드래그 앤 드롭 (drag_and_drop())\n",
    "\n",
    "from selenium import webdriver\n",
    "import time\n",
    "from selenium.webdriver.common.keys import Keys\n",
    "from selenium.webdriver.common.by import By\n",
    "from selenium.webdriver.support.ui import WebDriverWait\n",
    "from selenium.webdriver.support import expected_conditions as EC\n",
    "from selenium.webdriver.common.action_chains import ActionChains\n",
    "\n",
    "driver = webdriver.Chrome()\n",
    "driver.get(\"https://jqueryui.com/droppable/\")\n",
    "time.sleep(3)\n",
    "\n",
    "#프레임 전환\n",
    "driver.switch_to.frame(0)\n",
    "\n",
    "#요소찾기.\n",
    "source = driver.find_element(\"id\", \"draggable\")\n",
    "target = driver.find_element(\"id\", \"droppable\")\n",
    "\n",
    "# 드래그 앤 드롭 실행.\n",
    "actions = ActionChains(driver)\n",
    "actions.drag_and_drop(source, target).perform()\n",
    "\n",
    "time.sleep(3)\n",
    "driver.quit()"
   ],
   "id": "6bda4ed79a26709",
   "outputs": [],
   "execution_count": 19
  },
  {
   "metadata": {
    "ExecuteTime": {
     "end_time": "2025-09-09T01:47:00.684162Z",
     "start_time": "2025-09-09T01:46:53.552554Z"
    }
   },
   "cell_type": "code",
   "source": [
    "# 17 웹 페이지 소스 코드 가져오기.\n",
    "\n",
    "from selenium import webdriver\n",
    "import time\n",
    "from selenium.webdriver.common.keys import Keys\n",
    "from selenium.webdriver.common.by import By\n",
    "from selenium.webdriver.support.ui import WebDriverWait\n",
    "from selenium.webdriver.support import expected_conditions as EC\n",
    "from selenium.webdriver.common.action_chains import ActionChains\n",
    "\n",
    "driver = webdriver.Chrome()\n",
    "driver.get(\"https://www.goolge.com\")\n",
    "time.sleep(3)\n",
    "\n",
    "html = driver.page_source\n",
    "print(html[:500])\n",
    "driver.quit()"
   ],
   "id": "f6f45b8f087b6ee4",
   "outputs": [
    {
     "name": "stdout",
     "output_type": "stream",
     "text": [
      "<html dir=\"ltr\" lang=\"ko\"><head>\n",
      "  <meta charset=\"utf-8\">\n",
      "  <meta name=\"color-scheme\" content=\"light dark\">\n",
      "  <meta name=\"theme-color\" content=\"#fff\">\n",
      "  <meta name=\"viewport\" content=\"initial-scale=1, minimum-scale=1, width=device-width\">\n",
      "  <meta http-equiv=\"Content-Security-Policy\" content=\"require-trusted-types-for 'script'; trusted-types;\">\n",
      "  <title>개인 정보 보호 오류</title>\n",
      "  <style>/* Copyright 2017 The Chromium Authors\n",
      " * Use of this source code is governed by a BSD-style license that can be\n",
      " * \n"
     ]
    }
   ],
   "execution_count": 20
  },
  {
   "metadata": {
    "ExecuteTime": {
     "end_time": "2025-09-09T01:48:21.664715Z",
     "start_time": "2025-09-09T01:48:12.010020Z"
    }
   },
   "cell_type": "code",
   "source": [
    "# 18 파일 업로드 자동화,\n",
    "from selenium import webdriver\n",
    "import time\n",
    "from selenium.webdriver.common.keys import Keys\n",
    "from selenium.webdriver.common.by import By\n",
    "from selenium.webdriver.support.ui import WebDriverWait\n",
    "from selenium.webdriver.support import expected_conditions as EC\n",
    "from selenium.webdriver.common.action_chains import ActionChains\n",
    "\n",
    "driver = webdriver.Chrome()\n",
    "driver.get(\"https://tus.io/demo.html\")\n",
    "time.sleep(3)\n",
    "\n",
    "#파일 업로드 요소 찾기, xpath\n",
    "# 경로 : //*[@id=\"P0-0\"]\n",
    "# <input id=\"P0-0\" type=\"file\">\n",
    "upload = driver.find_element(\"xpath\", \"//input[@type='file']\")\n",
    "# 각자 업로드 테스트 할 파일 경로 지정 해주기.\n",
    "upload.send_keys(r\"D:\\Python-workspace-250901\\2-Python-crawling\\ch3-Dynmic-Selenium-Crawling-Test\\test_screenshot.png\")\n",
    "time.sleep(5)\n",
    "# driver.quit()"
   ],
   "id": "b564c7a36cf18ea9",
   "outputs": [],
   "execution_count": 22
  }
 ],
 "metadata": {
  "kernelspec": {
   "display_name": "Python 3",
   "language": "python",
   "name": "python3"
  },
  "language_info": {
   "codemirror_mode": {
    "name": "ipython",
    "version": 2
   },
   "file_extension": ".py",
   "mimetype": "text/x-python",
   "name": "python",
   "nbconvert_exporter": "python",
   "pygments_lexer": "ipython2",
   "version": "2.7.6"
  }
 },
 "nbformat": 4,
 "nbformat_minor": 5
}
