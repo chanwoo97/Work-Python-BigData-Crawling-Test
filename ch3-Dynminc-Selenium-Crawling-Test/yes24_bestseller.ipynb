{
 "cells": [
  {
   "cell_type": "code",
   "id": "initial_id",
   "metadata": {
    "collapsed": true,
    "ExecuteTime": {
     "end_time": "2025-09-09T07:31:05.022451Z",
     "start_time": "2025-09-09T07:31:05.018422Z"
    }
   },
   "source": [
    "# --- 0. 필요한 라이브러리들을 가져옵니다. ---\n",
    "import time\n",
    "import pandas as pd\n",
    "import pymysql\n",
    "from bs4 import BeautifulSoup\n",
    "from selenium import webdriver\n",
    "from selenium.webdriver.common.by import By\n",
    "from selenium.webdriver.support.ui import WebDriverWait\n",
    "from selenium.webdriver.support import expected_conditions as EC"
   ],
   "outputs": [],
   "execution_count": 21
  },
  {
   "metadata": {
    "ExecuteTime": {
     "end_time": "2025-09-09T07:31:05.036295Z",
     "start_time": "2025-09-09T07:31:05.030449Z"
    }
   },
   "cell_type": "code",
   "source": [
    "# --- 1. YES24 베스트셀러 크롤링 함수 ---\n",
    "def scrape_yes24_bestsellers():\n",
    "    \"\"\"\n",
    "    Selenium으로 여러 페이지를 넘기며 YES24 베스트셀러 정보를 가져오는 함수\n",
    "    \"\"\"\n",
    "    BASE_URL = \"http://www.yes24.com/24/Category/BestSeller\"\n",
    "    driver = webdriver.Chrome()\n",
    "    all_books = []\n",
    "\n",
    "    print(\"YES24 베스트셀러 크롤링을 시작합니다...\")\n",
    "\n",
    "    try:\n",
    "        # 1페이지부터 3페이지까지 순회\n",
    "        for page_num in range(1, 4):\n",
    "            print(f\"--- {page_num}페이지 크롤링 중 ---\")\n",
    "\n",
    "            # 페이지 URL 생성 (1페이지는 기본 URL, 2페이지부터는 ?PageNumber=2 형식)\n",
    "            url = f\"{BASE_URL}?PageNumber={page_num}\"\n",
    "            driver.get(url)\n",
    "\n",
    "            # 페이지가 로드될 때까지 최대 10초 대기\n",
    "            WebDriverWait(driver, 10).until(\n",
    "                EC.presence_of_element_located((By.ID, \"bestList\"))\n",
    "            )\n",
    "\n",
    "            html = driver.page_source\n",
    "            soup = BeautifulSoup(html, 'html.parser')\n",
    "\n",
    "            # 베스트셀러 목록 선택 (ol 태그의 bestList id 하위의 li들)\n",
    "            book_list = soup.select(\"#bestList > ol > li\")\n",
    "\n",
    "            for book in book_list:\n",
    "                # 순위, 제목, 저자, 가격 정보 추출\n",
    "                rank_tag = book.select_one(\"p.bb-best-num\")\n",
    "                title_tag = book.select_one(\"p.bb-book-title > a\")\n",
    "                author_tag = book.select_one(\"p.bb-book-meta > a:nth-of-type(1)\")\n",
    "                price_tag = book.select_one(\"p.bb-book-price > strong\")\n",
    "\n",
    "                if rank_tag and title_tag and author_tag and price_tag:\n",
    "                    rank = rank_tag.text.strip().replace('.', '') # '1.' -> '1'\n",
    "                    title = title_tag.text.strip()\n",
    "                    author = author_tag.text.strip()\n",
    "                    price = price_tag.text.strip() + \"원\"\n",
    "\n",
    "                    all_books.append({\n",
    "                        'rank': rank,\n",
    "                        'title': title,\n",
    "                        'author': author,\n",
    "                        'price': price\n",
    "                    })\n",
    "\n",
    "        print(\"모든 페이지 정보 추출 완료\")\n",
    "\n",
    "    except Exception as e:\n",
    "        print(f\"크롤링 중 오류 발생 : {e}\")\n",
    "\n",
    "    finally:\n",
    "        driver.quit()\n",
    "        print(\"브라우저를 종료합니다.\")\n",
    "\n",
    "    return all_books"
   ],
   "id": "403e4a04165746a7",
   "outputs": [],
   "execution_count": 22
  },
  {
   "metadata": {
    "ExecuteTime": {
     "end_time": "2025-09-09T07:31:05.052139Z",
     "start_time": "2025-09-09T07:31:05.047643Z"
    }
   },
   "cell_type": "code",
   "source": [
    "# --- 2. 데이터베이스 저장 함수 (YES24 맞춤) ---\n",
    "def save_to_mariadb(data):\n",
    "    \"\"\"\n",
    "    크롤링한 베스트셀러 데이터를 MariaDB에 저장하는 함수\n",
    "    \"\"\"\n",
    "    # DB 연결 설정 (!!! 본인 환경에 맞게 수정하세요 !!!)\n",
    "    try:\n",
    "        db = pymysql.connect(\n",
    "            host=\"localhost\",\n",
    "            user=\"webuser\",\n",
    "            password=\"webuser\",\n",
    "            database=\"webdb\",\n",
    "            charset='utf8mb4'\n",
    "        )\n",
    "\n",
    "        cursor = db.cursor()\n",
    "\n",
    "        # 테이블 생성 (테이블 이름과 컬럼을 YES24에 맞게 변경)\n",
    "        create_table_query = \"\"\"\n",
    "        CREATE TABLE IF NOT EXISTS yes24_bestsellers (\n",
    "            id INT AUTO_INCREMENT PRIMARY KEY,\n",
    "            rank VARCHAR(10) NOT NULL,\n",
    "            title VARCHAR(255) NOT NULL,\n",
    "            author VARCHAR(255),\n",
    "            price VARCHAR(50)\n",
    "        )\n",
    "        \"\"\"\n",
    "        cursor.execute(create_table_query)\n",
    "\n",
    "        # 데이터 저장 (컬럼을 YES24에 맞게 변경)\n",
    "        insert_query = \"\"\"\n",
    "        INSERT INTO yes24_bestsellers (rank, title, author, price)\n",
    "        VALUES (%s, %s, %s, %s)\n",
    "        \"\"\"\n",
    "\n",
    "        cursor.executemany(insert_query,\n",
    "                           [(d[\"rank\"], d[\"title\"], d[\"author\"], d[\"price\"]) for d in data])\n",
    "        db.commit()\n",
    "        print(f\"{len(data)}개의 도서 데이터가 MariaDB에 성공적으로 저장되었습니다.\")\n",
    "\n",
    "    except Exception as e:\n",
    "        print(f\"데이터베이스 작업 중 오류 발생: {e}\")\n",
    "        if 'db' in locals() and db.open:\n",
    "            db.rollback()\n",
    "\n",
    "    finally:\n",
    "        if 'db' in locals() and db.open:\n",
    "            cursor.close()\n",
    "            db.close()"
   ],
   "id": "6d3f7037a3bb18ce",
   "outputs": [],
   "execution_count": 23
  },
  {
   "metadata": {
    "ExecuteTime": {
     "end_time": "2025-09-09T07:31:05.062106Z",
     "start_time": "2025-09-09T07:31:05.058369Z"
    }
   },
   "cell_type": "code",
   "source": [
    "# --- 3. 프로그램의 메인 실행 함수 ---\n",
    "def main():\n",
    "    \"\"\"\n",
    "    프로그램의 전체 실행 흐름을 제어하는 함수\n",
    "    \"\"\"\n",
    "    print(\"모든 프로세스를 시작합니다...\")\n",
    "\n",
    "    book_data = scrape_yes24_bestsellers()\n",
    "\n",
    "    if book_data:\n",
    "        print(f\"\\n총 {len(book_data)}개의 도서 데이터를 성공적으로 가져왔습니다.\")\n",
    "        save_to_mariadb(book_data)\n",
    "    else:\n",
    "        print(\"가져온 도서 데이터가 없습니다.\")\n",
    "\n",
    "    print(\"\\n모든 작업 완료!\")"
   ],
   "id": "596fed2733b541eb",
   "outputs": [],
   "execution_count": 24
  },
  {
   "metadata": {
    "ExecuteTime": {
     "end_time": "2025-09-09T07:31:21.057888Z",
     "start_time": "2025-09-09T07:31:05.072978Z"
    }
   },
   "cell_type": "code",
   "source": [
    "# --- 4. 스크립트의 시작점 ---\n",
    "if __name__ == '__main__':\n",
    "    main()"
   ],
   "id": "16ca283f409f6681",
   "outputs": [
    {
     "name": "stdout",
     "output_type": "stream",
     "text": [
      "모든 프로세스를 시작합니다...\n",
      "YES24 베스트셀러 크롤링을 시작합니다...\n",
      "--- 1페이지 크롤링 중 ---\n",
      "크롤링 중 오류 발생 : Message: \n",
      "Stacktrace:\n",
      "\tGetHandleVerifier [0x0x7ff74938fca5+79861]\n",
      "\tGetHandleVerifier [0x0x7ff74938fd00+79952]\n",
      "\t(No symbol) [0x0x7ff74910cada]\n",
      "\t(No symbol) [0x0x7ff749164457]\n",
      "\t(No symbol) [0x0x7ff74916471c]\n",
      "\t(No symbol) [0x0x7ff7491b8217]\n",
      "\t(No symbol) [0x0x7ff74918cb1f]\n",
      "\t(No symbol) [0x0x7ff7491b4f8b]\n",
      "\t(No symbol) [0x0x7ff74918c8b3]\n",
      "\t(No symbol) [0x0x7ff749155272]\n",
      "\t(No symbol) [0x0x7ff749156043]\n",
      "\tGetHandleVerifier [0x0x7ff74964b9dd+2946349]\n",
      "\tGetHandleVerifier [0x0x7ff749645c5a+2922410]\n",
      "\tGetHandleVerifier [0x0x7ff7496659e7+3052855]\n",
      "\tGetHandleVerifier [0x0x7ff7493aaa8e+189918]\n",
      "\tGetHandleVerifier [0x0x7ff7493b2a2f+222591]\n",
      "\tGetHandleVerifier [0x0x7ff749398ac4+116244]\n",
      "\tGetHandleVerifier [0x0x7ff749398c79+116681]\n",
      "\tGetHandleVerifier [0x0x7ff74937f058+11176]\n",
      "\tBaseThreadInitThunk [0x0x7ffb39ca7374+20]\n",
      "\tRtlUserThreadStart [0x0x7ffb3a4bcc91+33]\n",
      "\n",
      "브라우저를 종료합니다.\n",
      "가져온 도서 데이터가 없습니다.\n",
      "\n",
      "모든 작업 완료!\n"
     ]
    }
   ],
   "execution_count": 25
  }
 ],
 "metadata": {
  "kernelspec": {
   "display_name": "Python 3",
   "language": "python",
   "name": "python3"
  },
  "language_info": {
   "codemirror_mode": {
    "name": "ipython",
    "version": 2
   },
   "file_extension": ".py",
   "mimetype": "text/x-python",
   "name": "python",
   "nbconvert_exporter": "python",
   "pygments_lexer": "ipython2",
   "version": "2.7.6"
  }
 },
 "nbformat": 4,
 "nbformat_minor": 5
}
